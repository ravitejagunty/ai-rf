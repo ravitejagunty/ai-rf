{
 "cells": [
  {
   "cell_type": "code",
   "execution_count": null,
   "metadata": {
    "id": "oMiXoONyeGXa"
   },
   "outputs": [],
   "source": [
    "# importing the libraries\n",
    "import numpy as np\n",
    "import pandas as pd"
   ]
  },
  {
   "cell_type": "markdown",
   "metadata": {
    "id": "RWg1XRJ-u1iM"
   },
   "source": [
    "### 2.6 Pandas -  Series and DataFrames"
   ]
  },
  {
   "cell_type": "markdown",
   "metadata": {
    "id": "WKUBbjGgaaTh"
   },
   "source": [
    "**Pandas Series**\n",
    "* Pandas Series is a one-dimensional labeled array/list capable of holding data of any type (integer, string, float, python objects, etc.). \n",
    "* The labels are collectively called index. \n",
    "* Pandas Series can be thought as a single column of an excel spreadsheet and each entry in a series corresponds to an individual row in the spreadsheet."
   ]
  },
  {
   "cell_type": "code",
   "execution_count": null,
   "metadata": {
    "colab": {
     "base_uri": "https://localhost:8080/"
    },
    "id": "X9J5Mm9EsjOU",
    "outputId": "7021c46d-be8b-42e1-80b4-4ca8953687df"
   },
   "outputs": [],
   "source": [
    "# creating a list of price of different medicines\n",
    "med_price_list = [55,25,75,40,90]\n",
    "\n",
    "# converting the med_price_list to an array \n",
    "med_price_arr = np.array(med_price_list)\n",
    "\n",
    "# converting the list and array into a Pandas Series object  \n",
    "series_list = pd.Series(med_price_list)\n",
    "series_arr = pd.Series(med_price_arr)\n",
    "\n",
    "# printing the converted series object\n",
    "print(series_list)\n",
    "print(series_arr)"
   ]
  },
  {
   "cell_type": "markdown",
   "metadata": {
    "id": "KhZ6-xThvSmd"
   },
   "source": [
    "* We can see that the list and array have been converted to a Pandas Series object.\n",
    "* We also see that the series has automatically got index labels. Let's see how these can be modified."
   ]
  },
  {
   "cell_type": "code",
   "execution_count": null,
   "metadata": {
    "colab": {
     "base_uri": "https://localhost:8080/"
    },
    "id": "5cjQVBUryeif",
    "outputId": "a7a62cd5-c99a-4589-97ea-4c3932400fe4"
   },
   "outputs": [],
   "source": [
    "# changing the index of a series\n",
    "med_price_list_labeled = pd.Series(med_price_list, index = ['Omeprazole','Azithromycin','Metformin','Ibuprofen','Cetirizine'])\n",
    "print(med_price_list_labeled)"
   ]
  },
  {
   "cell_type": "markdown",
   "metadata": {
    "id": "agSG9KlEaaTj"
   },
   "source": [
    "**Performing mathematical operations on Pandas Series**"
   ]
  },
  {
   "cell_type": "markdown",
   "metadata": {
    "id": "lzAjVJtwaaTj"
   },
   "source": [
    "* The price of each medicine was increased by $2.5. Let's add this to the existing price."
   ]
  },
  {
   "cell_type": "code",
   "execution_count": null,
   "metadata": {
    "colab": {
     "base_uri": "https://localhost:8080/"
    },
    "id": "lhK_joCfaaTj",
    "outputId": "6835f8ea-e643-486d-d7c5-c34c330a6ad8"
   },
   "outputs": [],
   "source": [
    "# adding 2.5 to existing prices\n",
    "med_price_list_labeled_updated = med_price_list_labeled + 2.5\n",
    "med_price_list_labeled_updated"
   ]
  },
  {
   "cell_type": "markdown",
   "metadata": {
    "id": "5sVET8vraaTk"
   },
   "source": [
    "* A new price list was released by vendors for each medicine. Let's find the difference between new price and the old price"
   ]
  },
  {
   "cell_type": "code",
   "execution_count": null,
   "metadata": {
    "colab": {
     "base_uri": "https://localhost:8080/"
    },
    "id": "wGCw6jlfaaTk",
    "outputId": "aa3dee98-60f4-4c71-8a9b-ca93ba8427c9"
   },
   "outputs": [],
   "source": [
    "new_price_list = [77, 45.5, 100, 50, 80]\n",
    "new_price_list_labeled = pd.Series(new_price_list, index = ['Omeprazole','Azithromycin','Metformin','Ibuprofen','Cetirizine'])\n",
    "print(new_price_list_labeled)"
   ]
  },
  {
   "cell_type": "code",
   "execution_count": null,
   "metadata": {
    "colab": {
     "base_uri": "https://localhost:8080/"
    },
    "id": "oynSb82OunnO",
    "outputId": "0de0b06e-cea7-4f11-cf05-a2b9bf0293fd",
    "scrolled": true
   },
   "outputs": [],
   "source": [
    "print('Difference between new price and old price - ')\n",
    "print(new_price_list_labeled - med_price_list_labeled_updated)"
   ]
  },
  {
   "cell_type": "markdown",
   "metadata": {
    "id": "P0OPO95sztGf"
   },
   "source": [
    "**Pandas DataFrame**\n",
    "\n",
    "Pandas DataFrame is a two-dimensional tabular data structure with labeled axes (rows and columns)."
   ]
  },
  {
   "cell_type": "markdown",
   "metadata": {
    "id": "Vb-R08TD0MK6"
   },
   "source": [
    "**Creating a Pandas DataFrame using a list**"
   ]
  },
  {
   "cell_type": "code",
   "execution_count": null,
   "metadata": {
    "colab": {
     "base_uri": "https://localhost:8080/",
     "height": 0
    },
    "id": "YR7Elttt0YWA",
    "outputId": "bb2af3ef-ecfc-4ac3-b2d7-e22d44103503"
   },
   "outputs": [],
   "source": [
    "student = ['Mary', 'Peter', 'Susan', 'Toby', 'Vishal']\n",
    "df1 = pd.DataFrame(student,columns=['Student'])\n",
    "df1"
   ]
  },
  {
   "cell_type": "markdown",
   "metadata": {
    "id": "tbff68pm230z"
   },
   "source": [
    "**Creating a Pandas DataFrame using a dictionary**"
   ]
  },
  {
   "cell_type": "code",
   "execution_count": null,
   "metadata": {
    "colab": {
     "base_uri": "https://localhost:8080/",
     "height": 0
    },
    "id": "6ebCP2pi01_L",
    "outputId": "676c74fb-6acb-4f63-a07c-1fcb7d8eb8f7"
   },
   "outputs": [],
   "source": [
    "# defining another list\n",
    "grades = ['B-','A+','A-', 'B+', 'C']\n",
    "\n",
    "# creating the dataframe using a dictionary\n",
    "df2 = pd.DataFrame({'Student':student,'Grade':grades})\n",
    "df2"
   ]
  },
  {
   "cell_type": "markdown",
   "metadata": {
    "id": "lj7iRqkS145x"
   },
   "source": [
    "**Creating a Pandas DataFrame using Series**"
   ]
  },
  {
   "cell_type": "markdown",
   "metadata": {
    "id": "YbJy3YLMaaTm"
   },
   "source": [
    "The data for total energy consumption for the U.S. was collected from 2012 - 2018. Let's see how this data can be presented in form of data frame."
   ]
  },
  {
   "cell_type": "code",
   "execution_count": null,
   "metadata": {
    "colab": {
     "base_uri": "https://localhost:8080/",
     "height": 0
    },
    "id": "Lg18pRxJ3YVd",
    "outputId": "1dbb3ce5-d976-4c23-d067-1cf4f2530237"
   },
   "outputs": [],
   "source": [
    "year = pd.Series([2012,2013,2014,2015,2016,2017,2018])\n",
    "energy_consumption = pd.Series([2152,2196,2217,2194,2172,2180,2258])\n",
    "\n",
    "df3 = pd.DataFrame({'Year':year,'Energy_Consumption(Mtoe)':energy_consumption})\n",
    "df3"
   ]
  },
  {
   "cell_type": "markdown",
   "metadata": {
    "id": "wD1Z1hsA55A-"
   },
   "source": [
    "**Creating a Pandas DataFrame using random values**"
   ]
  },
  {
   "cell_type": "markdown",
   "metadata": {
    "id": "W_UWLjAOaaTn"
   },
   "source": [
    "For encryption purposes a web browser company wants to generate random values which have mean equal to 0 and variance equal to 1. They want 5 randomly generated numbers in 2 different trials."
   ]
  },
  {
   "cell_type": "code",
   "execution_count": null,
   "metadata": {
    "colab": {
     "base_uri": "https://localhost:8080/",
     "height": 0
    },
    "id": "5cdmJWu83xAD",
    "outputId": "20ab68fb-f41d-4800-afad-5b819834c760"
   },
   "outputs": [],
   "source": [
    "# we can create a new dataframe using random values \n",
    "df4 = pd.DataFrame(np.random.randn(5,2),columns = ['Trial 1', 'Trial 2'])\n",
    "df4"
   ]
  },
  {
   "cell_type": "markdown",
   "metadata": {
    "id": "c7MwEmop6GWe"
   },
   "source": [
    "### 2.7 Pandas - Accessing and Modifying"
   ]
  },
  {
   "cell_type": "markdown",
   "metadata": {
    "id": "jy3tHXkyJLu9"
   },
   "source": [
    "**Accessing Series**"
   ]
  },
  {
   "cell_type": "markdown",
   "metadata": {
    "id": "UWxqQH5aaaTo"
   },
   "source": [
    "The revenue (in billion dollars) of different telecommunication operators in U.S. was collected for the year of 2020. The following lists consist of the names of the telecommunication operators and their respective revenue (in billion dollars)."
   ]
  },
  {
   "cell_type": "code",
   "execution_count": null,
   "metadata": {
    "colab": {
     "base_uri": "https://localhost:8080/"
    },
    "id": "8hlsWm_MaaTo",
    "outputId": "7aebd42a-d7e8-4ca4-acdc-7dd66f907ea8"
   },
   "outputs": [],
   "source": [
    "operators = ['AT&T', 'Verizon', 'T-Mobile US', 'US Cellular']\n",
    "revenue = [171.76, 128.29, 68.4, 4.04]\n",
    "\n",
    "#creating a Series from lists\n",
    "telecom = pd.Series(revenue, index=operators)\n",
    "telecom"
   ]
  },
  {
   "cell_type": "markdown",
   "metadata": {
    "id": "LSIn5H4_I5cc"
   },
   "source": [
    "**Accessing Pandas Series using its index**"
   ]
  },
  {
   "cell_type": "code",
   "execution_count": null,
   "metadata": {
    "colab": {
     "base_uri": "https://localhost:8080/"
    },
    "id": "iFy5pkGRKBWQ",
    "outputId": "87310179-bca3-43bb-e070-a7c27a56f32a"
   },
   "outputs": [],
   "source": [
    "# accessing the first element of series \n",
    "telecom[0]"
   ]
  },
  {
   "cell_type": "code",
   "execution_count": null,
   "metadata": {
    "colab": {
     "base_uri": "https://localhost:8080/"
    },
    "id": "UZTdWeaQKicd",
    "outputId": "d78c63d0-b917-4c50-dc06-20e7b9491e2d"
   },
   "outputs": [],
   "source": [
    "#  accessing firt 3 elements of a series\n",
    "telecom[:3]"
   ]
  },
  {
   "cell_type": "code",
   "execution_count": null,
   "metadata": {
    "colab": {
     "base_uri": "https://localhost:8080/"
    },
    "id": "xxyTDCkKKrKP",
    "outputId": "5683e2e5-137b-4fcd-a5d9-4bb0d5907685"
   },
   "outputs": [],
   "source": [
    "# accessing the last two elements of a series\n",
    "telecom[-2:]"
   ]
  },
  {
   "cell_type": "code",
   "execution_count": null,
   "metadata": {
    "colab": {
     "base_uri": "https://localhost:8080/"
    },
    "id": "hIJny1Z3LTPW",
    "outputId": "3262d7f8-ce57-4fde-8f63-d34ebfa53931"
   },
   "outputs": [],
   "source": [
    "# accessing multiple elements of a series\n",
    "telecom[[0,2,3]]"
   ]
  },
  {
   "cell_type": "markdown",
   "metadata": {
    "id": "kbrvcVEzLJrO"
   },
   "source": [
    "**Accessing Pandas Series using its labeled index**"
   ]
  },
  {
   "cell_type": "code",
   "execution_count": null,
   "metadata": {
    "colab": {
     "base_uri": "https://localhost:8080/"
    },
    "id": "WXRSET1iJT6t",
    "outputId": "8877b925-5ac7-4cc7-869d-7c5e4ac6cbbf"
   },
   "outputs": [],
   "source": [
    "# accessing the revenue of AT&T\n",
    "telecom['AT&T']"
   ]
  },
  {
   "cell_type": "code",
   "execution_count": null,
   "metadata": {
    "colab": {
     "base_uri": "https://localhost:8080/"
    },
    "id": "I3RQr51ILfJl",
    "outputId": "d06d9071-4159-429c-e65c-d1c5a88c963f"
   },
   "outputs": [],
   "source": [
    "#  accessing firt 3 revenues of operators in the series\n",
    "telecom[:'T-Mobile US']"
   ]
  },
  {
   "cell_type": "code",
   "execution_count": null,
   "metadata": {
    "colab": {
     "base_uri": "https://localhost:8080/"
    },
    "id": "dap494agJWhA",
    "outputId": "5070d016-afb0-4e9f-958f-3049d9f1b105"
   },
   "outputs": [],
   "source": [
    "# accessing multiple values\n",
    "telecom[['AT&T','US Cellular','Verizon']]"
   ]
  },
  {
   "cell_type": "markdown",
   "metadata": {
    "id": "E-MAFZwTJhfN"
   },
   "source": [
    "**Accessing DataFrames**"
   ]
  },
  {
   "cell_type": "markdown",
   "metadata": {
    "id": "k1lOvovyaaTq"
   },
   "source": [
    "The data of the customers visiting 24/7 Stores from different locations was collected. The data includes Customer ID, location of store, gender of the customer,  type of product purchased, quantity of products purchased, total bill amount. Let's create the dataset and see how to access different entries of it."
   ]
  },
  {
   "cell_type": "code",
   "execution_count": null,
   "metadata": {
    "colab": {
     "base_uri": "https://localhost:8080/",
     "height": 206
    },
    "id": "Bozahsu4aaTq",
    "outputId": "4c314cb6-7164-4e2c-bb75-47ce6e8ed704"
   },
   "outputs": [],
   "source": [
    "# creating the dataframe using dictionary\n",
    "store_data = pd.DataFrame({'CustomerID': ['CustID00','CustID01','CustID02','CustID03','CustID04']\n",
    "                           ,'location': ['Chicago', 'Boston', 'Seattle', 'San Francisco', 'Austin']\n",
    "                           ,'gender': ['M','M','F','M','F']\n",
    "                           ,'type': ['Electronics','Food&Beverages','Food&Beverages','Medicine','Beauty']\n",
    "                           ,'quantity':[1,3,4,2,1],'total_bill':[100,75,125,50,80]})\n",
    "store_data"
   ]
  },
  {
   "cell_type": "code",
   "execution_count": null,
   "metadata": {
    "colab": {
     "base_uri": "https://localhost:8080/",
     "height": 81
    },
    "id": "U_v2ac5mUMtp",
    "outputId": "1fa79ca1-e2cc-416b-e0c3-4cccb4fe6862"
   },
   "outputs": [],
   "source": [
    "# accessing first row of the dataframe\n",
    "store_data[:1]"
   ]
  },
  {
   "cell_type": "code",
   "execution_count": null,
   "metadata": {
    "colab": {
     "base_uri": "https://localhost:8080/"
    },
    "id": "AOPng29EUVMG",
    "outputId": "296a6674-8bc1-4f10-abba-d1e7825a775a"
   },
   "outputs": [],
   "source": [
    "# accessing first column of the dataframe\n",
    "store_data['location']"
   ]
  },
  {
   "cell_type": "code",
   "execution_count": null,
   "metadata": {
    "colab": {
     "base_uri": "https://localhost:8080/",
     "height": 143
    },
    "id": "mjDrEFdnNvBl",
    "outputId": "14d2be75-7dce-4cae-a93c-544fc73af2b1"
   },
   "outputs": [],
   "source": [
    "# accessing rows with the step size of 2\n",
    "store_data[::2] "
   ]
  },
  {
   "cell_type": "code",
   "execution_count": null,
   "metadata": {
    "colab": {
     "base_uri": "https://localhost:8080/",
     "height": 143
    },
    "id": "4Zki01TwM7Ql",
    "outputId": "61f02729-e91b-4c5e-e386-4225912e4c4b"
   },
   "outputs": [],
   "source": [
    "# accessing the rows in reverse\n",
    "store_data[::-2]"
   ]
  },
  {
   "cell_type": "markdown",
   "metadata": {
    "id": "ed3PjeXmPhHS"
   },
   "source": [
    "**Using loc and iloc method**"
   ]
  },
  {
   "cell_type": "markdown",
   "metadata": {
    "id": "WHWSlf0PPxWv"
   },
   "source": [
    "**loc method**\n",
    "\n",
    "* loc is a  method to access rows and columns on pandas objects. When using the loc method on a dataframe, we specify which rows and which columns we want by using the following format:\n",
    "\n",
    "  * **dataframe.loc[row selection, column selection]**\n",
    "\n",
    "* DataFrame.loc[] method is a method that takes **only index labels** and returns row or dataframe if the index label exists in the data frame."
   ]
  },
  {
   "cell_type": "code",
   "execution_count": null,
   "metadata": {
    "colab": {
     "base_uri": "https://localhost:8080/"
    },
    "id": "wwnArsdDO23-",
    "outputId": "1ea02b21-c99c-4c9d-b583-1710bacf6e22"
   },
   "outputs": [],
   "source": [
    "# accessing first index value using loc method (indexing starts from 0 in python)\n",
    "store_data.loc[1,'CustomerID']"
   ]
  },
  {
   "cell_type": "markdown",
   "metadata": {
    "id": "Q0yJ-rLlaaTs"
   },
   "source": [
    "**Accessing selected rows and columns using loc method**"
   ]
  },
  {
   "cell_type": "code",
   "execution_count": null,
   "metadata": {
    "colab": {
     "base_uri": "https://localhost:8080/",
     "height": 112
    },
    "id": "nb1S6qqCS3j2",
    "outputId": "c746c51a-0ea9-4f58-a51d-3117788443a0"
   },
   "outputs": [],
   "source": [
    "# accessing 1st and 4th index values along with location and type columns \n",
    "store_data.loc[[1,4],['location','type']]"
   ]
  },
  {
   "cell_type": "markdown",
   "metadata": {
    "id": "XL5mkENwQ1Yt"
   },
   "source": [
    "**iloc method**\n",
    "\n",
    "* The iloc indexer for Pandas Dataframe is used for **integer location-based** indexing/selection by position. When using the loc method on a dataframe, we specify which rows and which columns we want by using the following format:\n",
    "\n",
    "  * **dataframe.iloc[row selection, column selection]**\n",
    "\n"
   ]
  },
  {
   "cell_type": "code",
   "execution_count": null,
   "metadata": {
    "colab": {
     "base_uri": "https://localhost:8080/",
     "height": 112
    },
    "id": "PP6eMjy-RNVd",
    "outputId": "bc439a09-2600-4a7c-f6c7-242f69d112b3"
   },
   "outputs": [],
   "source": [
    "# accessing selected rows and columns using iloc method \n",
    "store_data.iloc[[1,4],[0,2]]"
   ]
  },
  {
   "cell_type": "markdown",
   "metadata": {
    "id": "YUjPItvHXNa_"
   },
   "source": [
    "**Difference between loc and iloc indexing methods**\n",
    "\n",
    "* loc is label-based, which means that you have to specify rows and columns based on their row and column labels.\n",
    "* iloc is integer position-based, so you have to specify rows and columns by their integer position values (0-based integer position).\n"
   ]
  },
  {
   "cell_type": "markdown",
   "metadata": {
    "id": "PUL471fKaaTt"
   },
   "source": [
    "If we use labels instead of index values in .iloc it will throw an error."
   ]
  },
  {
   "cell_type": "code",
   "execution_count": null,
   "metadata": {
    "colab": {
     "base_uri": "https://localhost:8080/",
     "height": 329
    },
    "id": "TMDNQ34raaTt",
    "outputId": "fbf6dc35-937d-4fd2-cc08-b10d3cbd714d"
   },
   "outputs": [],
   "source": [
    "# accessing selected rows and columns using iloc method \n",
    "store_data.loc[[1,4],['location','type']]"
   ]
  },
  {
   "cell_type": "markdown",
   "metadata": {
    "id": "Gitf4BMjkAlE"
   },
   "source": [
    "* As expected, .iloc has given error on using 'labels'."
   ]
  },
  {
   "cell_type": "code",
   "execution_count": null,
   "metadata": {
    "id": "uA2-H3DwRuDJ"
   },
   "outputs": [],
   "source": [
    "calorie_data = pd.DataFrame({'day': ['day1','day2','day3','day4','day5']\n",
    "                           ,'calories': [450, 300, 345, 520, 600]\n",
    "                           ,'duration_min': [30, 25, 29, 39, 48]\n",
    "                           })\n",
    "calorie_data"
   ]
  },
  {
   "cell_type": "markdown",
   "metadata": {
    "id": "RBPiD5DiTUGN"
   },
   "source": [
    "We can modify entries of a dataframe using loc or iloc too"
   ]
  },
  {
   "cell_type": "code",
   "execution_count": null,
   "metadata": {
    "colab": {
     "base_uri": "https://localhost:8080/"
    },
    "id": "0UkHqdZNQfYh",
    "outputId": "be2d9e8b-291a-4074-f80c-05c787ccd2d2"
   },
   "outputs": [],
   "source": [
    "print(store_data.loc[4,'type'])\n",
    "store_data.loc[4,'type'] = 'Electronics'"
   ]
  },
  {
   "cell_type": "code",
   "execution_count": null,
   "metadata": {
    "colab": {
     "base_uri": "https://localhost:8080/",
     "height": 206
    },
    "id": "RjRVVLptRaPw",
    "outputId": "2c4b3672-ae00-4b1d-8fa3-d1496941e023"
   },
   "outputs": [],
   "source": [
    "store_data"
   ]
  },
  {
   "cell_type": "code",
   "execution_count": null,
   "metadata": {
    "colab": {
     "base_uri": "https://localhost:8080/",
     "height": 206
    },
    "id": "2W8vdM6uTuSt",
    "outputId": "0e554925-2c7d-4dc3-ed74-3a8f73d18d37"
   },
   "outputs": [],
   "source": [
    "store_data.iloc[4,3] = 'Beauty'\n",
    "store_data"
   ]
  },
  {
   "cell_type": "markdown",
   "metadata": {
    "id": "96RCw04-XlVb"
   },
   "source": [
    "**Condition based indexing**"
   ]
  },
  {
   "cell_type": "code",
   "execution_count": null,
   "metadata": {
    "colab": {
     "base_uri": "https://localhost:8080/"
    },
    "id": "2cH76CDLYOVD",
    "outputId": "205cc5fc-81e8-47ec-8995-4503d2c1254e"
   },
   "outputs": [],
   "source": [
    "store_data['quantity']>1"
   ]
  },
  {
   "cell_type": "markdown",
   "metadata": {
    "id": "mI04a8_0YXG6"
   },
   "source": [
    "* Wherever the condition of greater than 1 is satisfied in quantity column, 'True' is returned. Let's retrieve the original values wherever the condition is satisfied."
   ]
  },
  {
   "cell_type": "code",
   "execution_count": null,
   "metadata": {
    "colab": {
     "base_uri": "https://localhost:8080/",
     "height": 143
    },
    "id": "c3Wba0oJYRlx",
    "outputId": "d2f115cf-a654-4fe1-ef31-fd00c710a51b"
   },
   "outputs": [],
   "source": [
    "store_data.loc[store_data['quantity']>1]"
   ]
  },
  {
   "cell_type": "markdown",
   "metadata": {
    "id": "78kpdkOuYU5G"
   },
   "source": [
    "* Wherever the condition is satisfied we get the original values, and wherever the condition is not satisfied we do not get those records in the output."
   ]
  },
  {
   "cell_type": "markdown",
   "metadata": {
    "id": "OGT6WSHFZApo"
   },
   "source": [
    "**Column addition and removal from a Pandas DataFrame**"
   ]
  },
  {
   "cell_type": "markdown",
   "metadata": {
    "id": "X29WMLIgZbPi"
   },
   "source": [
    "**Adding a new column in a DataFrame**"
   ]
  },
  {
   "cell_type": "code",
   "execution_count": null,
   "metadata": {
    "colab": {
     "base_uri": "https://localhost:8080/",
     "height": 206
    },
    "id": "JH2SiWOBZl1U",
    "outputId": "a1d4f788-a7ee-48e2-ec07-b25ff93a1829"
   },
   "outputs": [],
   "source": [
    "store_data"
   ]
  },
  {
   "cell_type": "code",
   "execution_count": null,
   "metadata": {
    "colab": {
     "base_uri": "https://localhost:8080/",
     "height": 206
    },
    "id": "zwcPawNlZn8S",
    "outputId": "c1a1a752-d7de-4f54-9f4a-0c377356c2c9"
   },
   "outputs": [],
   "source": [
    "# adding a new column in data frame store_data which is a rating (out of 5) given by customer based on their shopping experience\n",
    "store_data['rating'] = [2,5,3,4,4]\n",
    "store_data"
   ]
  },
  {
   "cell_type": "markdown",
   "metadata": {
    "id": "8-RPaeeMaAms"
   },
   "source": [
    "**Removing a column from a DataFrame**"
   ]
  },
  {
   "cell_type": "markdown",
   "metadata": {
    "id": "luayOzSOaaTu"
   },
   "source": [
    "* The CustomerID column is a unique identifier of each customer. This unique identifier will not help 24/7 Stores in getting useful insights about their customers. So, they have decided to remove this column from the data frame."
   ]
  },
  {
   "cell_type": "code",
   "execution_count": null,
   "metadata": {
    "colab": {
     "base_uri": "https://localhost:8080/",
     "height": 206
    },
    "id": "hCXhoJ7naHCW",
    "outputId": "b653716b-5114-446a-a85c-be0e72ad19a0"
   },
   "outputs": [],
   "source": [
    "store_data.drop('CustomerID',axis=1)"
   ]
  },
  {
   "cell_type": "markdown",
   "metadata": {
    "id": "72v8jOTOaMpc"
   },
   "source": [
    "* We sucessfully removed the 'CustomerID' from dataframe. But this change is not permanent in the dataframe, let's have a look at the store_data again."
   ]
  },
  {
   "cell_type": "code",
   "execution_count": null,
   "metadata": {
    "colab": {
     "base_uri": "https://localhost:8080/",
     "height": 206
    },
    "id": "oDNc9ryhaczg",
    "outputId": "12ccf9ce-0a43-4a8c-8292-71f3516a4cea"
   },
   "outputs": [],
   "source": [
    "store_data"
   ]
  },
  {
   "cell_type": "markdown",
   "metadata": {
    "id": "R-Auuivladg5"
   },
   "source": [
    "* We see that store_data still has column 'CustomerID' in it. \n",
    "* To make permanent changes to a dataframe there are two methods will have to use a parameter `inplace` and set its value to `True`."
   ]
  },
  {
   "cell_type": "code",
   "execution_count": null,
   "metadata": {
    "id": "ye21aHVbCw4d"
   },
   "outputs": [],
   "source": []
  },
  {
   "cell_type": "code",
   "execution_count": null,
   "metadata": {
    "colab": {
     "base_uri": "https://localhost:8080/",
     "height": 206
    },
    "id": "d7pr_yifasub",
    "outputId": "8cc78697-5005-4d44-bb87-199e167367e1"
   },
   "outputs": [],
   "source": [
    "store_data.drop('CustomerID',axis=1,inplace=True)\n",
    "store_data"
   ]
  },
  {
   "cell_type": "markdown",
   "metadata": {
    "id": "cC2Cr5ySa0V-"
   },
   "source": [
    "* Now the column has been permanently removed from the dataframe."
   ]
  },
  {
   "cell_type": "code",
   "execution_count": null,
   "metadata": {
    "colab": {
     "base_uri": "https://localhost:8080/",
     "height": 206
    },
    "id": "Ro8px764bGkI",
    "outputId": "9a483a6a-1ead-40dc-bbe8-ec6621a59720"
   },
   "outputs": [],
   "source": [
    "# we can also remove multiple columns simultaneously \n",
    "# it is always a good idea to store the new/updated data frames in new variables to avoid changes to the existing data frame\n",
    "\n",
    "# creating a copy of the existing data frame\n",
    "new_store_data = store_data.copy()\n",
    "store_data"
   ]
  },
  {
   "cell_type": "code",
   "execution_count": null,
   "metadata": {
    "colab": {
     "base_uri": "https://localhost:8080/",
     "height": 206
    },
    "id": "8_-04QAFbo7F",
    "outputId": "d5fd03ea-8ebf-479b-e665-bfc5780095be"
   },
   "outputs": [],
   "source": [
    "# dropping location and rating columns simultaneously\n",
    "new_store_data.drop(['location','rating'],axis=1,inplace=True)\n",
    "new_store_data"
   ]
  },
  {
   "cell_type": "code",
   "execution_count": null,
   "metadata": {
    "colab": {
     "base_uri": "https://localhost:8080/",
     "height": 206
    },
    "id": "wa_pg8MhbuxC",
    "outputId": "f3e08488-256a-47b7-ce47-1ee40bf9cd0e"
   },
   "outputs": [],
   "source": [
    "# lets check if store_data was impacted\n",
    "store_data"
   ]
  },
  {
   "cell_type": "markdown",
   "metadata": {
    "id": "JBLXfOlob0NY"
   },
   "source": [
    "* There were no changes to data frame store_data."
   ]
  },
  {
   "cell_type": "markdown",
   "metadata": {
    "id": "7HFM6r_qaaTw"
   },
   "source": [
    "* Deep copy stores copies of the object’s value.\n",
    "* Shallow Copy stores the references of objects to the original memory address. "
   ]
  },
  {
   "cell_type": "markdown",
   "metadata": {
    "id": "hT8Sq8-Ab3Rj"
   },
   "source": [
    "**Removing rows from a dataframe**"
   ]
  },
  {
   "cell_type": "code",
   "execution_count": null,
   "metadata": {
    "colab": {
     "base_uri": "https://localhost:8080/",
     "height": 175
    },
    "id": "1KeeacRlcDgw",
    "outputId": "c1637236-72a9-43d1-d818-e250c9e62cdc"
   },
   "outputs": [],
   "source": [
    "store_data.drop(1,axis=0)"
   ]
  },
  {
   "cell_type": "code",
   "execution_count": null,
   "metadata": {
    "colab": {
     "base_uri": "https://localhost:8080/",
     "height": 206
    },
    "id": "3F4WNiEONe4g",
    "outputId": "6404e2db-d895-48b1-ebe6-673dd0173106"
   },
   "outputs": [],
   "source": [
    "store_data"
   ]
  },
  {
   "cell_type": "markdown",
   "metadata": {
    "id": "qsGlmJzucG3t"
   },
   "source": [
    "* Notice that we used **`axis=0`** to drop a row from a data frame, while we were using **`axis=1`** for dropping a column from the data frame.\n",
    "* Also, to make permanent changes to the data frame we will have to use `inplace=True` parameter.\n",
    "* We also see that the index are not correct now as first row has been removed. So, we will have to reset the index of the data frame. Let's see how this can be done."
   ]
  },
  {
   "cell_type": "code",
   "execution_count": null,
   "metadata": {
    "colab": {
     "base_uri": "https://localhost:8080/",
     "height": 175
    },
    "id": "QHj_lQWQd8Li",
    "outputId": "80c353cd-c54e-4a2d-eefd-f315d0e295a4"
   },
   "outputs": [],
   "source": [
    "# creating a new dataframe\n",
    "store_data_new  = store_data.drop('location',axis=1)\n",
    "store_data_new\n",
    "store_data"
   ]
  },
  {
   "cell_type": "code",
   "execution_count": null,
   "metadata": {
    "colab": {
     "base_uri": "https://localhost:8080/",
     "height": 175
    },
    "id": "a3XJVG6UfTrX",
    "outputId": "952b05c4-86a2-49d2-dc0b-550bcf3aad0e"
   },
   "outputs": [],
   "source": [
    "# resetting the index of data frame\n",
    "store_data_new.reset_index()"
   ]
  },
  {
   "cell_type": "markdown",
   "metadata": {
    "id": "XOh2G_b1fbqk"
   },
   "source": [
    "* We see that the index of the data frame is now resetted but the index has become a column in the data frame. We do not need the index to become a column so we can simply set the parameter **`drop=True`** in reset_index() function."
   ]
  },
  {
   "cell_type": "code",
   "execution_count": null,
   "metadata": {
    "colab": {
     "base_uri": "https://localhost:8080/",
     "height": 175
    },
    "id": "sZU0tctKf0A2",
    "outputId": "c60a9f6e-ad3f-4e74-a98d-032be297bd6a"
   },
   "outputs": [],
   "source": [
    "# setting inplace = True to make the changes permanent\n",
    "store_data_new.reset_index(drop=True,inplace=True)\n",
    "store_data_new"
   ]
  },
  {
   "cell_type": "markdown",
   "metadata": {
    "id": "1PVPsH6Rf9Us"
   },
   "source": [
    "### 2.8 Pandas - Combining DataFrames"
   ]
  },
  {
   "cell_type": "markdown",
   "metadata": {
    "id": "1V8PJFedawJY"
   },
   "source": [
    "We will examine 3 methods for combining dataframes\n",
    "\n",
    "1. concat\n",
    "2. join\n",
    "3. merge"
   ]
  },
  {
   "cell_type": "code",
   "execution_count": null,
   "metadata": {
    "id": "F7dzbCINgNIj"
   },
   "outputs": [],
   "source": [
    "data_cust = pd.DataFrame({\"customerID\":['101','102','103','104'], \n",
    "                        'category': ['Medium','Medium','High','Low'],\n",
    "                        'first_visit': ['yes','no','yes','yes'],\n",
    "                        'sales': [123,52,214,663]},index=[0,1,2,3])\n",
    "\n",
    "data_cust_new = pd.DataFrame({\"customerID\":['101','103','104','105'], \n",
    "                    'distance': [12,9,44,21],\n",
    "                    'sales': [123,214,663,331]},index=[4,5,6,7])"
   ]
  },
  {
   "cell_type": "code",
   "execution_count": null,
   "metadata": {
    "colab": {
     "base_uri": "https://localhost:8080/",
     "height": 0
    },
    "id": "A65b10V4Twoq",
    "outputId": "e00eaa58-c174-4c77-e00a-92787f428f33"
   },
   "outputs": [],
   "source": [
    "data_cust"
   ]
  },
  {
   "cell_type": "code",
   "execution_count": null,
   "metadata": {
    "colab": {
     "base_uri": "https://localhost:8080/",
     "height": 0
    },
    "id": "0MMWONOvTy8x",
    "outputId": "7c8fa980-8bc7-48ad-b911-064128683c2a"
   },
   "outputs": [],
   "source": [
    "data_cust_new"
   ]
  },
  {
   "cell_type": "code",
   "execution_count": null,
   "metadata": {
    "colab": {
     "base_uri": "https://localhost:8080/",
     "height": 0
    },
    "id": "oJpGr_5LhnR3",
    "outputId": "2906e371-6fe7-4805-8667-ecd26f862f02"
   },
   "outputs": [],
   "source": [
    "pd.concat([data_cust,data_cust_new],axis=0)"
   ]
  },
  {
   "cell_type": "code",
   "execution_count": null,
   "metadata": {
    "colab": {
     "base_uri": "https://localhost:8080/",
     "height": 0
    },
    "id": "x4d_fwk9hyIn",
    "outputId": "05d53d1c-3038-4e9e-e6f1-2a9e951e720e"
   },
   "outputs": [],
   "source": [
    "pd.concat([data_cust,data_cust_new],axis=1)"
   ]
  },
  {
   "cell_type": "markdown",
   "metadata": {
    "id": "rYWgB69Uh8eb"
   },
   "source": [
    "**Merge and Join**\n",
    "\n",
    "* Merge combines dataframes using a column's values to identify common entries\n",
    "\n",
    "* Join combines dataframes using the index to identify common entries"
   ]
  },
  {
   "cell_type": "code",
   "execution_count": null,
   "metadata": {
    "colab": {
     "base_uri": "https://localhost:8080/",
     "height": 0
    },
    "id": "fVjFWr1hiF9c",
    "outputId": "b1b617e3-c7e8-4985-e08e-9e795203852e"
   },
   "outputs": [],
   "source": [
    "pd.merge(data_cust,data_cust_new,how='outer',on='customerID') # outer merge is union of on"
   ]
  },
  {
   "cell_type": "code",
   "execution_count": null,
   "metadata": {
    "colab": {
     "base_uri": "https://localhost:8080/",
     "height": 0
    },
    "id": "arBjOKCCiKeB",
    "outputId": "cd3c4c24-c85e-4382-91e6-7156946779a3"
   },
   "outputs": [],
   "source": [
    "pd.merge(data_cust,data_cust_new,how='inner',on='customerID') # inner merge is intersection of on"
   ]
  },
  {
   "cell_type": "code",
   "execution_count": null,
   "metadata": {
    "colab": {
     "base_uri": "https://localhost:8080/",
     "height": 0
    },
    "id": "BXWe2W7hirk5",
    "outputId": "ef8284f6-5c0c-457b-9551-e074f237d774"
   },
   "outputs": [],
   "source": [
    "pd.merge(data_cust,data_cust_new,how='left',on='customerID') "
   ]
  },
  {
   "cell_type": "code",
   "execution_count": null,
   "metadata": {
    "id": "KCrVkI7_izBx"
   },
   "outputs": [],
   "source": [
    "data_quarters = pd.DataFrame({'Q1': [101,102,103],\n",
    "                              'Q2': [201,202,203]},\n",
    "                               index=['I0','I1','I2'])\n",
    "\n",
    "data_quarters_new = pd.DataFrame({'Q3': [301,302,303],\n",
    "                                  'Q4': [401,402,403]},\n",
    "                               index=['I0','I2','I3'])"
   ]
  },
  {
   "cell_type": "code",
   "execution_count": null,
   "metadata": {
    "colab": {
     "base_uri": "https://localhost:8080/",
     "height": 0
    },
    "id": "udScH_N_YJd2",
    "outputId": "13768e36-054f-4661-b4e5-c2fe3c8c8128"
   },
   "outputs": [],
   "source": [
    "data_quarters"
   ]
  },
  {
   "cell_type": "code",
   "execution_count": null,
   "metadata": {
    "colab": {
     "base_uri": "https://localhost:8080/",
     "height": 0
    },
    "id": "F46S08gHYJku",
    "outputId": "1eef7753-b2fd-4991-fb58-cf3843e23f2a"
   },
   "outputs": [],
   "source": [
    "data_quarters_new"
   ]
  },
  {
   "cell_type": "markdown",
   "metadata": {
    "id": "xhilQNPcjDb9"
   },
   "source": [
    "* `join` behaves just like merge,  except instead of using the values of one of the columns to combine data frames, it uses the index labels"
   ]
  },
  {
   "cell_type": "code",
   "execution_count": null,
   "metadata": {
    "colab": {
     "base_uri": "https://localhost:8080/",
     "height": 0
    },
    "id": "sEgY9t7pi_pH",
    "outputId": "3656de80-d8d7-4fd9-d739-e33e6c0e0848"
   },
   "outputs": [],
   "source": [
    "data_quarters.join(data_quarters_new,how='outer') # outer, inner, left, and right work the same as merge"
   ]
  },
  {
   "cell_type": "markdown",
   "metadata": {
    "id": "TQdLaw2WaaT0"
   },
   "source": [
    "### 2.9 Pandas - Saving and Loading DataFrames"
   ]
  },
  {
   "cell_type": "markdown",
   "metadata": {
    "id": "hzUVpfIqcLM-"
   },
   "source": [
    "**Note**\n",
    "\n",
    "In real-life scenario, we deal with much larger datasets that have thousands of rows and multiple columns. It will not be feasible for us to create datasets using multiple lists, especially if the number of columns and rows increases.\n",
    "\n",
    "So, it is clear we need a more efficient way of handling the data simultaneously at the columns and row levels. In Python, we can import dataset from our local system, from links, or from databases and work on them directly instead of creating our own dataset."
   ]
  },
  {
   "cell_type": "markdown",
   "metadata": {
    "id": "2vu0qeSHaaT0"
   },
   "source": [
    "**Loading a CSV file in Python**"
   ]
  },
  {
   "cell_type": "markdown",
   "metadata": {
    "id": "0s1W4Ya3aaT0"
   },
   "source": [
    "**For Jupyter Notebook**\n",
    "* When the data file and jupyter notebook are in the same folder."
   ]
  },
  {
   "cell_type": "code",
   "execution_count": null,
   "metadata": {
    "id": "6hg4rM1NkMpK"
   },
   "outputs": [],
   "source": [
    "# Using pd.read_csv() function will work without any path if the notebook and dataset are in the folder\n",
    "\n",
    "# data = pd.read_csv('StockData.csv')"
   ]
  },
  {
   "cell_type": "markdown",
   "metadata": {
    "id": "sfi3h_bGaaT0"
   },
   "source": [
    "**For Google Colab with Google Drive**\n",
    "\n",
    "First, we have to give google colab access to our google drive:"
   ]
  },
  {
   "cell_type": "code",
   "execution_count": null,
   "metadata": {
    "colab": {
     "base_uri": "https://localhost:8080/",
     "height": 329
    },
    "id": "KSpDmB4XcExv",
    "outputId": "32d0e8cb-2660-43a0-b9d2-9075d74f1f66"
   },
   "outputs": [],
   "source": [
    "from google.colab import drive\n",
    "drive.mount('/content/drive')"
   ]
  },
  {
   "cell_type": "markdown",
   "metadata": {
    "id": "9oKnCEzrcKq9"
   },
   "source": [
    "Once we have access we can load files from google drive using read_csv() function."
   ]
  },
  {
   "cell_type": "code",
   "execution_count": null,
   "metadata": {
    "id": "fTw5q0pBcI5h"
   },
   "outputs": [],
   "source": [
    "path=\"/Users/ravs/Desktop/UTA-AIML/week-2-python-numpy-pandas/datasets/StockData.csv\" \n",
    "data=pd.read_csv(path)"
   ]
  },
  {
   "cell_type": "code",
   "execution_count": null,
   "metadata": {
    "id": "K2BX7gs2aaT1"
   },
   "outputs": [],
   "source": [
    "# head() function helps us to see the first 5 rows of the data\n",
    "data.head()"
   ]
  },
  {
   "cell_type": "markdown",
   "metadata": {
    "id": "ulKq6vDgaaT1"
   },
   "source": [
    "**Loading an excel file in Python**"
   ]
  },
  {
   "cell_type": "code",
   "execution_count": null,
   "metadata": {
    "id": "AthmlNozaaT1"
   },
   "outputs": [],
   "source": [
    "path_excel=\"/Users/ravs/Desktop/UTA-AIML/week-2-python-numpy-pandas/datasets/StockData.xlsx\" \n",
    "data_excel = pd.read_excel(path_excel)"
   ]
  },
  {
   "cell_type": "code",
   "execution_count": null,
   "metadata": {
    "id": "57m8zw-ZaaT1"
   },
   "outputs": [],
   "source": [
    "data_excel.head()"
   ]
  },
  {
   "cell_type": "markdown",
   "metadata": {
    "id": "0NNWK5FpaaT1"
   },
   "source": [
    "**Saving a dataset in Python**"
   ]
  },
  {
   "cell_type": "markdown",
   "metadata": {
    "id": "WTVMrSqJaaT2"
   },
   "source": [
    "**Saving the dataset as a csv file**\n",
    "\n",
    "To save a dataset as .csv file the syntax used is - \n",
    "\n",
    "**data.to_csv('name of the file.csv', index=False)**"
   ]
  },
  {
   "cell_type": "code",
   "execution_count": null,
   "metadata": {
    "id": "jrreBwusfM28"
   },
   "outputs": [],
   "source": [
    "data"
   ]
  },
  {
   "cell_type": "code",
   "execution_count": null,
   "metadata": {
    "id": "2MosW0HdaaT2"
   },
   "outputs": [],
   "source": [
    "data.to_csv('/Users/ravs/Desktop/UTA-AIML/week-2-python-numpy-pandas/datasets/Saved_StockData.csv',index=False)"
   ]
  },
  {
   "cell_type": "markdown",
   "metadata": {
    "id": "Bbk-Y4SaaaT2"
   },
   "source": [
    "* In jupyter notebook, the dataset will be saved in the folder where the jupyter notebook is located.\n",
    "* We can also save the dataset to a desired folder by providing the path/location of the folder."
   ]
  },
  {
   "cell_type": "markdown",
   "metadata": {
    "id": "vKWc9M2vaaT2"
   },
   "source": [
    "**Saving the dataset as an excel spreadsheet**\n",
    "\n",
    "To save a dataset as .xlsx file the syntax used is - \n",
    "\n",
    "**data.to_excel('name of the file.xlsx',index=False)**"
   ]
  },
  {
   "cell_type": "code",
   "execution_count": null,
   "metadata": {
    "id": "tU7dwEa1aaT2"
   },
   "outputs": [],
   "source": [
    "data.to_excel('/Users/ravs/Desktop/UTA-AIML/week-2-python-numpy-pandas/datasets/Saved_StockData.xlsx',index=False)"
   ]
  },
  {
   "cell_type": "markdown",
   "metadata": {
    "id": "JI-WmKp4aaT2"
   },
   "source": [
    "### 2.10 Pandas - Functions"
   ]
  },
  {
   "cell_type": "code",
   "execution_count": null,
   "metadata": {
    "id": "mqT0F5lTaaT2"
   },
   "outputs": [],
   "source": []
  },
  {
   "cell_type": "markdown",
   "metadata": {
    "id": "bEZ3-RglaaT3"
   },
   "source": [
    "**head() - to check the first 5 rows of the dataset**"
   ]
  },
  {
   "cell_type": "code",
   "execution_count": null,
   "metadata": {
    "colab": {
     "base_uri": "https://localhost:8080/",
     "height": 166
    },
    "id": "70J7-E8NaaT3",
    "outputId": "04b17bfd-0f1b-4317-8b2f-2af42bfee919"
   },
   "outputs": [],
   "source": [
    "data.head()"
   ]
  },
  {
   "cell_type": "markdown",
   "metadata": {
    "id": "g2zJbqfpaaT3"
   },
   "source": [
    "**tail() - to check the last 5 rows of the dataset**"
   ]
  },
  {
   "cell_type": "code",
   "execution_count": null,
   "metadata": {
    "id": "8zSpQq0PaaT3"
   },
   "outputs": [],
   "source": [
    "data.tail()"
   ]
  },
  {
   "cell_type": "markdown",
   "metadata": {
    "id": "qwiUkUxBaaT3"
   },
   "source": [
    "**shape - to check the number of rows and columns in the dataset**"
   ]
  },
  {
   "cell_type": "code",
   "execution_count": null,
   "metadata": {
    "id": "z5n0z2yraaT3"
   },
   "outputs": [],
   "source": [
    "data.shape"
   ]
  },
  {
   "cell_type": "markdown",
   "metadata": {
    "id": "res1b5v6aaT4"
   },
   "source": [
    "* The dataset has 5036 rows and 3 columns. "
   ]
  },
  {
   "cell_type": "markdown",
   "metadata": {
    "id": "tHCwDyZbaaT4"
   },
   "source": [
    "**info() - to check the data type of the columns**"
   ]
  },
  {
   "cell_type": "code",
   "execution_count": null,
   "metadata": {
    "id": "WWEGpWAOaaT4"
   },
   "outputs": [],
   "source": [
    "data.info()"
   ]
  },
  {
   "cell_type": "markdown",
   "metadata": {
    "id": "q3WS5pgjaaT4"
   },
   "source": [
    "* The price column is numeric in nature while the stock and date columns are of object types."
   ]
  },
  {
   "cell_type": "markdown",
   "metadata": {
    "id": "yzt0Db5zaaT4"
   },
   "source": [
    "**min() - to check the minimum value of a numeric column**"
   ]
  },
  {
   "cell_type": "code",
   "execution_count": null,
   "metadata": {
    "id": "b6_fiiy7aaT4"
   },
   "outputs": [],
   "source": [
    "data['price'].min()"
   ]
  },
  {
   "cell_type": "markdown",
   "metadata": {
    "id": "5Ilfa_9yaaT4"
   },
   "source": [
    "**max() - to check the maximum value of a numeric column**"
   ]
  },
  {
   "cell_type": "code",
   "execution_count": null,
   "metadata": {
    "id": "2t8A8QyaaaT4"
   },
   "outputs": [],
   "source": [
    "data['price'].max()"
   ]
  },
  {
   "cell_type": "markdown",
   "metadata": {
    "id": "1EwaP056aaT5"
   },
   "source": [
    "**unique() - to check the number of unique values that are present in a column**"
   ]
  },
  {
   "cell_type": "code",
   "execution_count": null,
   "metadata": {
    "id": "ZTkwMMXAaaT5"
   },
   "outputs": [],
   "source": [
    "data['stock'].unique()"
   ]
  },
  {
   "cell_type": "markdown",
   "metadata": {
    "id": "WtqlXzUEaaT5"
   },
   "source": [
    "**value_counts() - to check the number of values that each unique quantity has in a column**"
   ]
  },
  {
   "cell_type": "code",
   "execution_count": null,
   "metadata": {
    "id": "9jFLbvr2aaT5"
   },
   "outputs": [],
   "source": [
    "data['stock'].value_counts()"
   ]
  },
  {
   "cell_type": "markdown",
   "metadata": {
    "id": "UPGoY2kxaaT5"
   },
   "source": [
    "**value_counts(normalize=True) - using the `normalize` parameter and initializing it to True will return the relative frequencies of the unique values.** "
   ]
  },
  {
   "cell_type": "code",
   "execution_count": null,
   "metadata": {
    "id": "NNeKczQfaaT5"
   },
   "outputs": [],
   "source": [
    "data['stock'].value_counts(normalize=True)"
   ]
  },
  {
   "cell_type": "markdown",
   "metadata": {
    "id": "2ZJXTZ_faaT5"
   },
   "source": [
    "**Statistical Functions**"
   ]
  },
  {
   "cell_type": "markdown",
   "metadata": {
    "id": "LWHaFXvMaaT6"
   },
   "source": [
    "**mean() - to check the mean (average) value of the column**"
   ]
  },
  {
   "cell_type": "code",
   "execution_count": null,
   "metadata": {
    "id": "fQgxZuw1aaT6"
   },
   "outputs": [],
   "source": [
    "data['price'].mean()\n",
    "appl_stock = data.loc[data['stock'] == 'AAPL']\n",
    "appl_stock['price'].mean()"
   ]
  },
  {
   "cell_type": "markdown",
   "metadata": {
    "id": "K-KFoQB2aaT6"
   },
   "source": [
    "**median() - to check the median value of the column**"
   ]
  },
  {
   "cell_type": "code",
   "execution_count": null,
   "metadata": {
    "id": "fuajaPzpaaT6"
   },
   "outputs": [],
   "source": [
    "data['price'].median()"
   ]
  },
  {
   "cell_type": "markdown",
   "metadata": {
    "id": "2mNcZjzFaaT6"
   },
   "source": [
    "**mode() - to check the mode value of the column**"
   ]
  },
  {
   "cell_type": "code",
   "execution_count": null,
   "metadata": {
    "id": "T8iMcq6maaT6"
   },
   "outputs": [],
   "source": [
    "data['stock'].mode()"
   ]
  },
  {
   "cell_type": "markdown",
   "metadata": {
    "id": "Nw9F_I3DaaT6"
   },
   "source": [
    "**To access a particular mode when the dataset has more than 1 mode**"
   ]
  },
  {
   "cell_type": "code",
   "execution_count": null,
   "metadata": {
    "id": "xyjKRXJLaaT6"
   },
   "outputs": [],
   "source": [
    "#to access the first mode \n",
    "data['price'].mode()[0]"
   ]
  },
  {
   "cell_type": "markdown",
   "metadata": {
    "id": "hDReuxYbaaT7"
   },
   "source": [
    "**Group By function**\n",
    "* Pandas dataframe.groupby() function is used to split the data into groups based on some criteria."
   ]
  },
  {
   "cell_type": "code",
   "execution_count": null,
   "metadata": {
    "id": "WDYZKZSCaaT7"
   },
   "outputs": [],
   "source": [
    "data.groupby(['stock'])['price'].mean()"
   ]
  },
  {
   "cell_type": "markdown",
   "metadata": {
    "id": "zIeiAZLJaaT7"
   },
   "source": [
    "* Here the groupby function is used to split the data into the 4 stocks that are present in the dataset and then the mean price of each of the 4 stock is calculated."
   ]
  },
  {
   "cell_type": "code",
   "execution_count": null,
   "metadata": {
    "id": "vRa5naunaaT7"
   },
   "outputs": [],
   "source": [
    "# similarly we can get the median price of each stock\n",
    "data.groupby(['stock'])['price'].median()"
   ]
  },
  {
   "cell_type": "markdown",
   "metadata": {
    "id": "SoUenYJtaaT7"
   },
   "source": [
    "* Here the groupby function is used to split the data into the 4 stocks that are present in the dataset and then the median price of each of the 4 stock is calculated."
   ]
  },
  {
   "cell_type": "markdown",
   "metadata": {
    "id": "MQXyWBP4aaT7"
   },
   "source": [
    "**Let's create a function to increase the price of the stock by 10%**"
   ]
  },
  {
   "cell_type": "code",
   "execution_count": null,
   "metadata": {
    "id": "GGZUiVtkaaT8"
   },
   "outputs": [],
   "source": [
    "def profit(s):\n",
    "    return s + s*0.10 # increase of 10%"
   ]
  },
  {
   "cell_type": "markdown",
   "metadata": {
    "id": "ShnkGc_OaaT8"
   },
   "source": [
    "**The Pandas apply() function lets you to manipulate columns and rows in a DataFrame.**"
   ]
  },
  {
   "cell_type": "code",
   "execution_count": null,
   "metadata": {
    "id": "xnqjB-8eaaT8"
   },
   "outputs": [],
   "source": [
    "data['price'].apply(profit)"
   ]
  },
  {
   "cell_type": "markdown",
   "metadata": {
    "id": "JQPJPeA0aaT8"
   },
   "source": [
    "* We can now add this updated values in the dataset."
   ]
  },
  {
   "cell_type": "code",
   "execution_count": null,
   "metadata": {
    "id": "SJcPDTRjaaT8"
   },
   "outputs": [],
   "source": [
    "data['new_price'] =data['price'].apply(profit)\n",
    "data.head()"
   ]
  },
  {
   "cell_type": "markdown",
   "metadata": {
    "id": "WrVwUrG8aaT8"
   },
   "source": [
    "**Pandas sort_values() function sorts a data frame in ascending or descending order of passed column.**"
   ]
  },
  {
   "cell_type": "code",
   "execution_count": null,
   "metadata": {
    "id": "fbG7puR1aaT8"
   },
   "outputs": [],
   "source": [
    "data.sort_values(by='new_price',ascending=False) # by default ascending is set to True"
   ]
  },
  {
   "cell_type": "markdown",
   "metadata": {
    "id": "jq__TYL7aaT9"
   },
   "source": [
    "### 2.11 Pandas - Date-time Functions"
   ]
  },
  {
   "cell_type": "code",
   "execution_count": null,
   "metadata": {
    "id": "qiFur3ffaaT9"
   },
   "outputs": [],
   "source": [
    "# reading the StockData\n",
    "path=\"/Users/ravs/Desktop/UTA-AIML/week-2-python-numpy-pandas/datasets/StockData.csv\" \n",
    "data=pd.read_csv(path)"
   ]
  },
  {
   "cell_type": "code",
   "execution_count": null,
   "metadata": {
    "id": "O9sK3H9WaaT9"
   },
   "outputs": [],
   "source": [
    "# checking the first 5 rows of the dataset\n",
    "data.head()"
   ]
  },
  {
   "cell_type": "code",
   "execution_count": null,
   "metadata": {
    "id": "DUTj4xHuaaT9"
   },
   "outputs": [],
   "source": [
    "# checking the data type of columns in the dataset\n",
    "data.info()"
   ]
  },
  {
   "cell_type": "markdown",
   "metadata": {
    "id": "zJwyGtcUaaT9"
   },
   "source": [
    "* We observe that the date column is of object type whereas it should be of date time data type."
   ]
  },
  {
   "cell_type": "code",
   "execution_count": null,
   "metadata": {
    "id": "wf_sF48baaT9"
   },
   "outputs": [],
   "source": [
    "# converting the date column to datetime format\n",
    "data['date']  = pd.to_datetime(data['date'],dayfirst=True)"
   ]
  },
  {
   "cell_type": "code",
   "execution_count": null,
   "metadata": {
    "id": "x0JpES2paaT9"
   },
   "outputs": [],
   "source": [
    "data.info()"
   ]
  },
  {
   "cell_type": "markdown",
   "metadata": {
    "id": "c3LKyXDsaaT-"
   },
   "source": [
    "* We observe that the date column has been converted to datetime format"
   ]
  },
  {
   "cell_type": "code",
   "execution_count": null,
   "metadata": {
    "id": "PwvtmGCZaaT-"
   },
   "outputs": [],
   "source": [
    "data.head()"
   ]
  },
  {
   "cell_type": "markdown",
   "metadata": {
    "id": "MOltU1f_aaT-"
   },
   "source": [
    "**The column 'date' is now in datetime format. Now we can change the format of the date to any other format** "
   ]
  },
  {
   "cell_type": "code",
   "execution_count": null,
   "metadata": {
    "id": "lRzPtIN1aaT-"
   },
   "outputs": [],
   "source": [
    "data['date'].dt.strftime('%m/%d/%Y')"
   ]
  },
  {
   "cell_type": "code",
   "execution_count": null,
   "metadata": {
    "id": "jmZPqQ_raaT-"
   },
   "outputs": [],
   "source": [
    "data['date'].dt.strftime('%m-%d-%y')"
   ]
  },
  {
   "cell_type": "markdown",
   "metadata": {
    "id": "hLr6kwcRaaT-"
   },
   "source": [
    "**Extracting year from the date column**"
   ]
  },
  {
   "cell_type": "code",
   "execution_count": null,
   "metadata": {
    "id": "TawW5CJEaaT-"
   },
   "outputs": [],
   "source": [
    "data['date'].dt.year"
   ]
  },
  {
   "cell_type": "markdown",
   "metadata": {
    "id": "yE47GlNpaaT-"
   },
   "source": [
    "Creating a new column and adding the extracted year values into the dataframe."
   ]
  },
  {
   "cell_type": "code",
   "execution_count": null,
   "metadata": {
    "id": "YB5h8YxHaaT_"
   },
   "outputs": [],
   "source": [
    "data['year'] = data['date'].dt.year"
   ]
  },
  {
   "cell_type": "markdown",
   "metadata": {
    "id": "hY_74cFsaaT_"
   },
   "source": [
    "**Extracting month from the date column**"
   ]
  },
  {
   "cell_type": "code",
   "execution_count": null,
   "metadata": {
    "id": "NiswAWBkaaT_"
   },
   "outputs": [],
   "source": [
    "data['date'].dt.month"
   ]
  },
  {
   "cell_type": "markdown",
   "metadata": {
    "id": "yVsJ9ekcaaT_"
   },
   "source": [
    "Creating a new column and adding the extracted month values into the dataframe."
   ]
  },
  {
   "cell_type": "code",
   "execution_count": null,
   "metadata": {
    "id": "othBpB1KaaT_"
   },
   "outputs": [],
   "source": [
    "data['month'] = data['date'].dt.month"
   ]
  },
  {
   "cell_type": "markdown",
   "metadata": {
    "id": "uB5H7zjgaaT_"
   },
   "source": [
    "**Extracting day from the date column**"
   ]
  },
  {
   "cell_type": "code",
   "execution_count": null,
   "metadata": {
    "id": "Zqna7c2KaaT_"
   },
   "outputs": [],
   "source": [
    "data['date'].dt.day"
   ]
  },
  {
   "cell_type": "markdown",
   "metadata": {
    "id": "y3z5F-NFaaT_"
   },
   "source": [
    "Creating a new column and adding the extracted day values into the dataframe."
   ]
  },
  {
   "cell_type": "code",
   "execution_count": null,
   "metadata": {
    "id": "BjbZlnl8aaUA"
   },
   "outputs": [],
   "source": [
    "data['day'] = data['date'].dt.day"
   ]
  },
  {
   "cell_type": "code",
   "execution_count": null,
   "metadata": {
    "id": "eHuo2CYdaaUA"
   },
   "outputs": [],
   "source": [
    "data.head()"
   ]
  },
  {
   "cell_type": "markdown",
   "metadata": {
    "id": "q1ukYGe1jr-1"
   },
   "source": [
    "* We can see that year, month, and day columns have been added in the dataset."
   ]
  },
  {
   "cell_type": "code",
   "execution_count": null,
   "metadata": {
    "id": "01DjN1VPlKlw"
   },
   "outputs": [],
   "source": [
    "# The datetime format is convenient for many tasks!\n",
    "data['date'][1]-data['date'][0]"
   ]
  },
  {
   "cell_type": "code",
   "execution_count": null,
   "metadata": {
    "id": "tQMoqQeLlYVH"
   },
   "outputs": [],
   "source": [
    "import datetime\n",
    "date = datetime.date(2022, 1, 29)\n",
    "print(date)"
   ]
  },
  {
   "cell_type": "code",
   "execution_count": null,
   "metadata": {
    "id": "owbbDqkwlqtk"
   },
   "outputs": [],
   "source": [
    "list = [[9, 8, 7], [6, 5, 4], [3, 2, 1]]\n",
    "list = list[::-1]\n",
    "list = np.array(list)\n",
    "print(list)"
   ]
  },
  {
   "cell_type": "code",
   "execution_count": null,
   "metadata": {},
   "outputs": [],
   "source": [
    "list.reshape(3,3)"
   ]
  },
  {
   "cell_type": "code",
   "execution_count": null,
   "metadata": {},
   "outputs": [],
   "source": [
    "array_1 = np.linspace(0,20,6)\n",
    "array_1"
   ]
  },
  {
   "cell_type": "code",
   "execution_count": null,
   "metadata": {},
   "outputs": [],
   "source": [
    "print(array_1)"
   ]
  },
  {
   "cell_type": "code",
   "execution_count": null,
   "metadata": {},
   "outputs": [],
   "source": [
    "array_2 = np.arange(0,20,6)\n",
    "print(array_2)"
   ]
  },
  {
   "cell_type": "code",
   "execution_count": null,
   "metadata": {},
   "outputs": [],
   "source": [
    "mat = np.matrix([[ 1, 4, 9, 121, 144, 169],\n",
    "                [ 16, 25, 36, 196, 225, 256], \n",
    "                [ 49, 64, 81, 289, 324, 361]])\n",
    "mat.mean()"
   ]
  },
  {
   "cell_type": "code",
   "execution_count": null,
   "metadata": {},
   "outputs": [],
   "source": [
    "a = [3,6,8,45,-1,19,-4]\n",
    "b = np.array(a)\n",
    "b\n",
    "b[b<0]"
   ]
  },
  {
   "cell_type": "code",
   "execution_count": null,
   "metadata": {},
   "outputs": [],
   "source": [
    "np.cos([0, 1, 2, 3, 4]) "
   ]
  },
  {
   "cell_type": "code",
   "execution_count": null,
   "metadata": {},
   "outputs": [],
   "source": [
    "list_1 = np.array([1,2,3]) \n",
    "list_2 = np.array([4,5,6])\n",
    "new_list = list_1 + list_2\n",
    "new_list"
   ]
  },
  {
   "cell_type": "code",
   "execution_count": null,
   "metadata": {},
   "outputs": [],
   "source": [
    "mat = np.array([[1, 2, 1], [4, 5, 9],[1, 8, 9]])\n",
    "mat[1]"
   ]
  },
  {
   "cell_type": "code",
   "execution_count": null,
   "metadata": {},
   "outputs": [],
   "source": [
    "mat[1] = 5"
   ]
  },
  {
   "cell_type": "code",
   "execution_count": null,
   "metadata": {},
   "outputs": [],
   "source": [
    "mat"
   ]
  },
  {
   "cell_type": "code",
   "execution_count": null,
   "metadata": {},
   "outputs": [],
   "source": [
    "array_1 = np.array([1, 2, 3, 5, 8])\n",
    "array_2 = np.array([0, 3, 4, 2, 1])\n",
    "new_array = array_1+ array_2\n",
    "final_array = new_array*array_1\n",
    "print(final_array[2])"
   ]
  },
  {
   "cell_type": "code",
   "execution_count": null,
   "metadata": {},
   "outputs": [],
   "source": [
    "n1 = np.matrix([[121, 144, 169], [196, 225, 256], [ 289, 324, 361]])\n",
    "n2 = np.matrix([[ 1, 4, 9], [ 1, 5, 4], [ 9, 4, 8]])\n",
    "n3 = n1 @ n2\n",
    "n3"
   ]
  },
  {
   "cell_type": "code",
   "execution_count": null,
   "metadata": {},
   "outputs": [],
   "source": [
    "np.ones([2,2])"
   ]
  },
  {
   "cell_type": "code",
   "execution_count": null,
   "metadata": {},
   "outputs": [],
   "source": [
    "df = pd.read_csv('/Users/ravs/Desktop/UTA-AIML/practice-datasets/books.csv')"
   ]
  },
  {
   "cell_type": "code",
   "execution_count": null,
   "metadata": {},
   "outputs": [],
   "source": [
    "books_data"
   ]
  },
  {
   "cell_type": "code",
   "execution_count": null,
   "metadata": {},
   "outputs": [],
   "source": [
    "books.shape"
   ]
  },
  {
   "cell_type": "code",
   "execution_count": null,
   "metadata": {},
   "outputs": [],
   "source": [
    "books_data.shape"
   ]
  },
  {
   "cell_type": "code",
   "execution_count": null,
   "metadata": {},
   "outputs": [],
   "source": [
    "books_data['language_code'].unique()"
   ]
  },
  {
   "cell_type": "code",
   "execution_count": null,
   "metadata": {},
   "outputs": [],
   "source": [
    "books_data.describe()"
   ]
  },
  {
   "cell_type": "code",
   "execution_count": null,
   "metadata": {},
   "outputs": [],
   "source": [
    "books_data.info()"
   ]
  },
  {
   "cell_type": "code",
   "execution_count": null,
   "metadata": {},
   "outputs": [],
   "source": [
    "books_data.loc[books_data['average_rating']>4].count()"
   ]
  },
  {
   "cell_type": "code",
   "execution_count": null,
   "metadata": {},
   "outputs": [],
   "source": [
    "df(df[average_rating] > 4.5) && (df[ratings_count] < 10)"
   ]
  },
  {
   "cell_type": "code",
   "execution_count": null,
   "metadata": {},
   "outputs": [],
   "source": [
    "df[(df['average_rating']>4.5) & (df['ratings_count']<10)]"
   ]
  },
  {
   "cell_type": "code",
   "execution_count": null,
   "metadata": {},
   "outputs": [],
   "source": [
    "df"
   ]
  },
  {
   "cell_type": "code",
   "execution_count": null,
   "metadata": {},
   "outputs": [],
   "source": [
    "df.loc[df['language_code'] == 'eng']['average_rating'].mean()"
   ]
  },
  {
   "cell_type": "code",
   "execution_count": null,
   "metadata": {},
   "outputs": [],
   "source": [
    "df.iloc[:5,:4]"
   ]
  },
  {
   "cell_type": "code",
   "execution_count": null,
   "metadata": {},
   "outputs": [],
   "source": [
    "df.loc[[1, 5],['language_code', 'num_pages', 'ratings_count']]"
   ]
  },
  {
   "cell_type": "code",
   "execution_count": null,
   "metadata": {},
   "outputs": [],
   "source": [
    "df.loc[[1,4],['language_code', 'num_pages', 'ratings_count']]"
   ]
  },
  {
   "cell_type": "code",
   "execution_count": null,
   "metadata": {},
   "outputs": [],
   "source": [
    "df['num_pages'].mean()"
   ]
  },
  {
   "cell_type": "code",
   "execution_count": null,
   "metadata": {},
   "outputs": [],
   "source": [
    "df[df['year']==2010].count()"
   ]
  },
  {
   "cell_type": "code",
   "execution_count": null,
   "metadata": {},
   "outputs": [],
   "source": [
    "df"
   ]
  },
  {
   "cell_type": "code",
   "execution_count": null,
   "metadata": {},
   "outputs": [],
   "source": [
    "df_daw = df[df['publisher'] == 'DAW']\n",
    "df_daw[df_daw['average_rating'] > 4]['author'].unique()"
   ]
  },
  {
   "cell_type": "code",
   "execution_count": null,
   "metadata": {},
   "outputs": [],
   "source": [
    "df_pages = df[(df['num_pages'] > 500) & (df['year'] > 2010)]\n",
    "df_pages.shape[0]"
   ]
  },
  {
   "cell_type": "code",
   "execution_count": null,
   "metadata": {},
   "outputs": [],
   "source": [
    "df['author'].unique()"
   ]
  },
  {
   "cell_type": "code",
   "execution_count": null,
   "metadata": {},
   "outputs": [],
   "source": [
    "df.loc[df['author'] == 'Agatha Christie'].count()"
   ]
  },
  {
   "cell_type": "code",
   "execution_count": null,
   "metadata": {},
   "outputs": [],
   "source": [
    "df"
   ]
  },
  {
   "cell_type": "code",
   "execution_count": null,
   "metadata": {},
   "outputs": [],
   "source": [
    "df[(df['language_code'] == 'spa') & (df['year'] > 2000)].shape[0]"
   ]
  },
  {
   "cell_type": "code",
   "execution_count": null,
   "metadata": {},
   "outputs": [],
   "source": [
    "df"
   ]
  },
  {
   "cell_type": "code",
   "execution_count": null,
   "metadata": {},
   "outputs": [],
   "source": [
    "df.author"
   ]
  },
  {
   "cell_type": "code",
   "execution_count": null,
   "metadata": {},
   "outputs": [],
   "source": [
    "df.index"
   ]
  },
  {
   "cell_type": "code",
   "execution_count": null,
   "metadata": {},
   "outputs": [],
   "source": [
    "df.columns[3]"
   ]
  },
  {
   "cell_type": "code",
   "execution_count": null,
   "metadata": {},
   "outputs": [],
   "source": []
  },
  {
   "cell_type": "code",
   "execution_count": null,
   "metadata": {},
   "outputs": [],
   "source": [
    "df.to_numpy()"
   ]
  },
  {
   "cell_type": "code",
   "execution_count": null,
   "metadata": {},
   "outputs": [],
   "source": [
    "df"
   ]
  },
  {
   "cell_type": "code",
   "execution_count": null,
   "metadata": {},
   "outputs": [],
   "source": [
    "df.dtypes"
   ]
  },
  {
   "cell_type": "code",
   "execution_count": null,
   "metadata": {},
   "outputs": [],
   "source": [
    "df.ndim"
   ]
  },
  {
   "cell_type": "code",
   "execution_count": null,
   "metadata": {},
   "outputs": [],
   "source": [
    "df"
   ]
  },
  {
   "cell_type": "code",
   "execution_count": null,
   "metadata": {},
   "outputs": [],
   "source": [
    "df.shape"
   ]
  },
  {
   "cell_type": "code",
   "execution_count": null,
   "metadata": {},
   "outputs": [],
   "source": [
    "df.size"
   ]
  },
  {
   "cell_type": "code",
   "execution_count": null,
   "metadata": {},
   "outputs": [],
   "source": [
    "df.memory_usage()"
   ]
  },
  {
   "cell_type": "code",
   "execution_count": null,
   "metadata": {},
   "outputs": [],
   "source": [
    "df.at[1675, 'author']"
   ]
  },
  {
   "cell_type": "code",
   "execution_count": null,
   "metadata": {},
   "outputs": [],
   "source": [
    "df.iat[1675,1]"
   ]
  },
  {
   "cell_type": "code",
   "execution_count": null,
   "metadata": {},
   "outputs": [],
   "source": [
    "demo_matrix = np.array(([13,35,74,48], [23,37,37,38],[73,39,93,39]))"
   ]
  },
  {
   "cell_type": "code",
   "execution_count": null,
   "metadata": {},
   "outputs": [],
   "source": [
    "demo_matrix[0:3, 1:3]"
   ]
  },
  {
   "cell_type": "code",
   "execution_count": null,
   "metadata": {},
   "outputs": [],
   "source": [
    "demo_array = np.arange(0,10)"
   ]
  },
  {
   "cell_type": "code",
   "execution_count": null,
   "metadata": {},
   "outputs": [],
   "source": [
    "demo_array"
   ]
  },
  {
   "cell_type": "code",
   "execution_count": null,
   "metadata": {},
   "outputs": [],
   "source": [
    "demo_array<3"
   ]
  },
  {
   "cell_type": "code",
   "execution_count": null,
   "metadata": {},
   "outputs": [],
   "source": [
    "demo_array"
   ]
  },
  {
   "cell_type": "code",
   "execution_count": null,
   "metadata": {},
   "outputs": [],
   "source": [
    "flowers = pd.Series([2, 3, 5, 4], index=['lily', 'rose', 'daisy', 'lotus'])"
   ]
  },
  {
   "cell_type": "code",
   "execution_count": null,
   "metadata": {},
   "outputs": [],
   "source": [
    "flowers"
   ]
  },
  {
   "cell_type": "code",
   "execution_count": null,
   "metadata": {},
   "outputs": [],
   "source": [
    "flowers['daisy']"
   ]
  },
  {
   "cell_type": "code",
   "execution_count": null,
   "metadata": {},
   "outputs": [],
   "source": [
    "flowers = pd.Series([2, 3, 5, 4], index=['lily', 'rose', 'daisy', 'lotus'])\n",
    "flowers['daisy']"
   ]
  },
  {
   "cell_type": "code",
   "execution_count": null,
   "metadata": {},
   "outputs": [],
   "source": [
    "customer = np.array([101,102,103,104,101,103])"
   ]
  },
  {
   "cell_type": "code",
   "execution_count": null,
   "metadata": {},
   "outputs": [],
   "source": [
    "customer"
   ]
  },
  {
   "cell_type": "code",
   "execution_count": null,
   "metadata": {},
   "outputs": [],
   "source": [
    "category = np.array(['cat2','cat2','cat1','cat3','cat2','cat1'])"
   ]
  },
  {
   "cell_type": "code",
   "execution_count": null,
   "metadata": {},
   "outputs": [],
   "source": [
    "category"
   ]
  },
  {
   "cell_type": "code",
   "execution_count": null,
   "metadata": {},
   "outputs": [],
   "source": [
    "important = np.array(['yes','no','yes','yes','yes','yes'])\n",
    "important"
   ]
  },
  {
   "cell_type": "code",
   "execution_count": null,
   "metadata": {},
   "outputs": [],
   "source": [
    "sales = np.array([123,52,214,663,204,453])\n",
    "sales"
   ]
  },
  {
   "cell_type": "code",
   "execution_count": null,
   "metadata": {},
   "outputs": [],
   "source": [
    "data_customer = pd.DataFrame({'customer': customer, 'category':category, 'important':important, 'sales':sales})"
   ]
  },
  {
   "cell_type": "code",
   "execution_count": null,
   "metadata": {},
   "outputs": [],
   "source": [
    "data_customer"
   ]
  },
  {
   "cell_type": "code",
   "execution_count": null,
   "metadata": {},
   "outputs": [],
   "source": [
    "data_customer.groupby(['customer'])['sales'].average()"
   ]
  },
  {
   "cell_type": "code",
   "execution_count": null,
   "metadata": {},
   "outputs": [],
   "source": [
    "data_customer['category'].value_counts()"
   ]
  },
  {
   "cell_type": "code",
   "execution_count": null,
   "metadata": {},
   "outputs": [],
   "source": [
    "data_customer['customer'].value_counts()"
   ]
  },
  {
   "cell_type": "code",
   "execution_count": null,
   "metadata": {},
   "outputs": [],
   "source": [
    "data_customer(['category'])['customer'].value_counts()"
   ]
  },
  {
   "cell_type": "code",
   "execution_count": null,
   "metadata": {},
   "outputs": [],
   "source": [
    "data_customer.sort(by='sales',ascending=False)"
   ]
  },
  {
   "cell_type": "code",
   "execution_count": null,
   "metadata": {},
   "outputs": [],
   "source": [
    "data_customer.sort_values(by='sales',ascending=False)"
   ]
  },
  {
   "cell_type": "code",
   "execution_count": null,
   "metadata": {},
   "outputs": [],
   "source": [
    "data_customer"
   ]
  },
  {
   "cell_type": "code",
   "execution_count": null,
   "metadata": {},
   "outputs": [],
   "source": [
    "data_customer.loc[[1,2],['customer','sales']]"
   ]
  },
  {
   "cell_type": "code",
   "execution_count": null,
   "metadata": {},
   "outputs": [],
   "source": [
    "data_customer.loc[[1,2], ['customer', 'sales']]"
   ]
  },
  {
   "cell_type": "code",
   "execution_count": null,
   "metadata": {},
   "outputs": [],
   "source": []
  }
 ],
 "metadata": {
  "colab": {
   "collapsed_sections": [
    "RWg1XRJ-u1iM",
    "c7MwEmop6GWe",
    "1PVPsH6Rf9Us",
    "TQdLaw2WaaT0",
    "JI-WmKp4aaT2",
    "jq__TYL7aaT9"
   ],
   "name": "Hands-on Notebook-Pandas.ipynb",
   "provenance": []
  },
  "kernelspec": {
   "display_name": "Python 3 (ipykernel)",
   "language": "python",
   "name": "python3"
  },
  "language_info": {
   "codemirror_mode": {
    "name": "ipython",
    "version": 3
   },
   "file_extension": ".py",
   "mimetype": "text/x-python",
   "name": "python",
   "nbconvert_exporter": "python",
   "pygments_lexer": "ipython3",
   "version": "3.12.4"
  }
 },
 "nbformat": 4,
 "nbformat_minor": 4
}
